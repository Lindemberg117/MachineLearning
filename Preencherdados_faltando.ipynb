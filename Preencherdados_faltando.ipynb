{
  "nbformat": 4,
  "nbformat_minor": 0,
  "metadata": {
    "colab": {
      "provenance": [],
      "authorship_tag": "ABX9TyM92p+SwUdBfzXyf7hnUMXG",
      "include_colab_link": true
    },
    "kernelspec": {
      "name": "python3",
      "display_name": "Python 3"
    },
    "language_info": {
      "name": "python"
    }
  },
  "cells": [
    {
      "cell_type": "markdown",
      "metadata": {
        "id": "view-in-github",
        "colab_type": "text"
      },
      "source": [
        "<a href=\"https://colab.research.google.com/github/Lindemberg117/-Cifra-de-Vigenere/blob/main/Preencherdados_faltando.ipynb\" target=\"_parent\"><img src=\"https://colab.research.google.com/assets/colab-badge.svg\" alt=\"Open In Colab\"/></a>"
      ]
    },
    {
      "cell_type": "code",
      "execution_count": 17,
      "metadata": {
        "colab": {
          "base_uri": "https://localhost:8080/"
        },
        "id": "R-RcE_Jxe7vY",
        "outputId": "531e60fb-c204-4bfa-f2ed-5b0e299ea1f9"
      },
      "outputs": [
        {
          "output_type": "stream",
          "name": "stdout",
          "text": [
            "[['Site Arqueologia Egípcia' 13438.0 406590.0]\n",
            " ['Terra Negra' 35241.0 868235.0]\n",
            " ['Frank Jaava' 31680.0 2856508.0]\n",
            " ['Dispersciência' 25100.0 150000.0]\n",
            " ['Olá Ciência' 32788.0 1575456.0]\n",
            " ['A matemaníaca por Julia Jaccoud' 65453.0 1667892.0]\n",
            " ['Delta T - Os super lentos' 12000.0 171361.0]\n",
            " ['Bláblálogia' 161951.0 11027386.0]\n",
            " ['Efarsas' 78876.0 6226235.0]\n",
            " ['Minuto da Terra' 274196.0 30166457.0]\n",
            " ['Canal Cura Quântica' 13148.0 250020.0]\n",
            " ['Mensageiro Sideral' 72425.0 7551491.0]\n",
            " ['Universo Racionalista' 7858.0 43662.0]\n",
            " ['Xadrez Verbal' 110549.0 4151548.0]\n",
            " ['Reinaldo José Lopes' 11188.0 541832.0]\n",
            " [\"Bio's Fera\" 5299.0 44312.0]\n",
            " ['QuerQueDesenhe' 56006.0 1329268.0]\n",
            " ['Prof André Azevedo da Fonseca' 45756.0 1825724.0]\n",
            " ['Matemática Rio com Prof Rafael Procópio' 1423056.0 93036517.0]\n",
            " ['Ponto em Comum' 129466.0 5027880.0]\n",
            " ['Canal do Slow' 137409.0 5363423.0]\n",
            " ['Boteco Behaviorista' 18404.0 1427977.0]\n",
            " ['Papo de Primata' 42063.0 1111334.0]\n",
            " ['Minutos Psíquicos' 648892.0 22555134.0]\n",
            " ['Alimente o Cérebro' 135118.0 3375528.0]\n",
            " ['Canal Zoa' 9118.0 683190.0]\n",
            " ['Papo de Biólogo' 374057.0 12139385.0]\n",
            " ['Eu Ciência' 88211.0 1616496.0]\n",
            " ['Peixe Babel' nan nan]\n",
            " ['SpaceToday' 321068.0 26277335.0]\n",
            " ['Ciência todo dia' 528761.0 16969332.0]\n",
            " ['Colecionadores de Ossos' 24894.0 806815.0]\n",
            " ['Canal do Pirula' 752573.0 76462787.0]\n",
            " ['Jornal Ciensacional' 6216.0 104217.0]\n",
            " ['iBioMovies - Canal de Biologia' 17388.0 563535.0]\n",
            " ['Primata Falante' 110840.0 4540321.0]\n",
            " ['Dragões de Garagem' 6421.0 82599.0]\n",
            " ['Café e Ciência' 38494.0 916320.0]\n",
            " ['Mimimidias' 66122.0 2009621.0]\n",
            " ['Schwarza - Poligonautas' 860493.0 118741623.0]\n",
            " ['Caio na Aula' 13661.0 748018.0]\n",
            " ['ComCiência Corporal' 2308.0 16150.0]\n",
            " ['Leitura ObrigaHISTORIA' 138132.0 3013264.0]\n",
            " ['Portal da Ciência' 64100.0 2139717.0]\n",
            " ['Universo Discreto' 2330.0 74680.0]\n",
            " ['Astrotubers' 4357.0 41228.0]\n",
            " ['O Físico Turista' 53838.0 1004921.0]]\n"
          ]
        }
      ],
      "source": [
        "import numpy as np\n",
        "import pandas as pd\n",
        "\n",
        "baseDeDados = pd.read_csv(\"svbr.csv\", delimiter=\",\")\n",
        "#csv tipo de planilha muito simples em que os dados estão delimitados.\n",
        "\n",
        "X = baseDeDados.iloc[:,:].values\n",
        "\n",
        "print(X)"
      ]
    },
    {
      "cell_type": "code",
      "source": [
        "from sklearn.impute import SimpleImputer\n",
        "#criar o objeto imputer\n",
        "imputer = SimpleImputer(missing_values=np.nan, strategy=\"mean\")\n",
        "imputer = imputer.fit(X[:,1:3])\n",
        "\n",
        "X = imputer.transform(X[:,1:3]).astype(str)\n",
        "X = np.insert(X, 0, baseDeDados.iloc[:,0].values, axis=1)"
      ],
      "metadata": {
        "id": "GYcqQASIi6Ut"
      },
      "execution_count": 19,
      "outputs": []
    },
    {
      "cell_type": "code",
      "source": [
        "print(X)"
      ],
      "metadata": {
        "colab": {
          "base_uri": "https://localhost:8080/"
        },
        "id": "JOP5QcVJpzKq",
        "outputId": "1d8f026a-3169-414f-af74-293966293656"
      },
      "execution_count": 20,
      "outputs": [
        {
          "output_type": "stream",
          "name": "stdout",
          "text": [
            "[['Site Arqueologia Egípcia' '13438.0' '406590.0']\n",
            " ['Terra Negra' '35241.0' '868235.0']\n",
            " ['Frank Jaava' '31680.0' '2856508.0']\n",
            " ['Dispersciência' '25100.0' '150000.0']\n",
            " ['Olá Ciência' '32788.0' '1575456.0']\n",
            " ['A matemaníaca por Julia Jaccoud' '65453.0' '1667892.0']\n",
            " ['Delta T - Os super lentos' '12000.0' '171361.0']\n",
            " ['Bláblálogia' '161951.0' '11027386.0']\n",
            " ['Efarsas' '78876.0' '6226235.0']\n",
            " ['Minuto da Terra' '274196.0' '30166457.0']\n",
            " ['Canal Cura Quântica' '13148.0' '250020.0']\n",
            " ['Mensageiro Sideral' '72425.0' '7551491.0']\n",
            " ['Universo Racionalista' '7858.0' '43662.0']\n",
            " ['Xadrez Verbal' '110549.0' '4151548.0']\n",
            " ['Reinaldo José Lopes' '11188.0' '541832.0']\n",
            " [\"Bio's Fera\" '5299.0' '44312.0']\n",
            " ['QuerQueDesenhe' '56006.0' '1329268.0']\n",
            " ['Prof André Azevedo da Fonseca' '45756.0' '1825724.0']\n",
            " ['Matemática Rio com Prof Rafael P' '1423056.0' '93036517.0']\n",
            " ['Ponto em Comum' '129466.0' '5027880.0']\n",
            " ['Canal do Slow' '137409.0' '5363423.0']\n",
            " ['Boteco Behaviorista' '18404.0' '1427977.0']\n",
            " ['Papo de Primata' '42063.0' '1111334.0']\n",
            " ['Minutos Psíquicos' '648892.0' '22555134.0']\n",
            " ['Alimente o Cérebro' '135118.0' '3375528.0']\n",
            " ['Canal Zoa' '9118.0' '683190.0']\n",
            " ['Papo de Biólogo' '374057.0' '12139385.0']\n",
            " ['Eu Ciência' '88211.0' '1616496.0']\n",
            " ['Peixe Babel' '153711.78260869565' '10254420.086956521']\n",
            " ['SpaceToday' '321068.0' '26277335.0']\n",
            " ['Ciência todo dia' '528761.0' '16969332.0']\n",
            " ['Colecionadores de Ossos' '24894.0' '806815.0']\n",
            " ['Canal do Pirula' '752573.0' '76462787.0']\n",
            " ['Jornal Ciensacional' '6216.0' '104217.0']\n",
            " ['iBioMovies - Canal de Biologia' '17388.0' '563535.0']\n",
            " ['Primata Falante' '110840.0' '4540321.0']\n",
            " ['Dragões de Garagem' '6421.0' '82599.0']\n",
            " ['Café e Ciência' '38494.0' '916320.0']\n",
            " ['Mimimidias' '66122.0' '2009621.0']\n",
            " ['Schwarza - Poligonautas' '860493.0' '118741623.0']\n",
            " ['Caio na Aula' '13661.0' '748018.0']\n",
            " ['ComCiência Corporal' '2308.0' '16150.0']\n",
            " ['Leitura ObrigaHISTORIA' '138132.0' '3013264.0']\n",
            " ['Portal da Ciência' '64100.0' '2139717.0']\n",
            " ['Universo Discreto' '2330.0' '74680.0']\n",
            " ['Astrotubers' '4357.0' '41228.0']\n",
            " ['O Físico Turista' '53838.0' '1004921.0']]\n"
          ]
        }
      ]
    },
    {
      "cell_type": "code",
      "source": [
        "print(baseDeDados.head())      # mostra as primeiras linhas\n",
        "print(baseDeDados.shape)       # mostra (linhas, colunas)\n",
        "print(baseDeDados.columns)     # nomes das colunas\n"
      ],
      "metadata": {
        "colab": {
          "base_uri": "https://localhost:8080/"
        },
        "id": "d6dUqtbwpVR6",
        "outputId": "20ddce6b-4806-45fd-d125-3f2119d13c63"
      },
      "execution_count": 18,
      "outputs": [
        {
          "output_type": "stream",
          "name": "stdout",
          "text": [
            "                      Canal  Inscritos  Visualizações\n",
            "0  Site Arqueologia Egípcia    13438.0       406590.0\n",
            "1               Terra Negra    35241.0       868235.0\n",
            "2               Frank Jaava    31680.0      2856508.0\n",
            "3            Dispersciência    25100.0       150000.0\n",
            "4               Olá Ciência    32788.0      1575456.0\n",
            "(47, 3)\n",
            "Index(['Canal', 'Inscritos', 'Visualizações'], dtype='object')\n"
          ]
        }
      ]
    }
  ]
}